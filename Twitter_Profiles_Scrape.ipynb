{
 "cells": [
  {
   "cell_type": "code",
   "execution_count": 1,
   "id": "af924f5e",
   "metadata": {},
   "outputs": [],
   "source": [
    "import time\n",
    "import pandas as pd\n",
    "from selenium import webdriver\n",
    "from selenium.webdriver.common.by import By\n",
    "from selenium.webdriver.firefox.service import Service\n",
    "from webdriver_manager.firefox import GeckoDriverManager\n",
    "from selenium.webdriver.firefox.options import Options\n",
    "from selenium.webdriver.support.ui import WebDriverWait\n",
    "from selenium.webdriver.support import expected_conditions as EC\n",
    "from selenium.common.exceptions import NoSuchElementException, TimeoutException"
   ]
  },
  {
   "cell_type": "code",
   "execution_count": 2,
   "id": "2aa540aa",
   "metadata": {},
   "outputs": [],
   "source": [
    "def load_links(file_path):\n",
    "    \"\"\"Load and process links from a file.\"\"\"\n",
    "    with open(file_path, 'r') as file:\n",
    "        links = [line.strip().strip('\"') for line in file.readlines()]\n",
    "        return [\"https://\" + url if not url.startswith(\"http\") else url for url in links]"
   ]
  },
  {
   "cell_type": "code",
   "execution_count": 3,
   "id": "7eb62a8e",
   "metadata": {},
   "outputs": [],
   "source": [
    "def setup_driver():\n",
    "    \"\"\"Configure and initialize the WebDriver.\"\"\"\n",
    "    service = Service(GeckoDriverManager().install())\n",
    "    firefox_options = Options()\n",
    "    firefox_options.add_argument(\"--detach\")\n",
    "    return webdriver.Firefox(options=firefox_options, service=service)"
   ]
  },
  {
   "cell_type": "code",
   "execution_count": 4,
   "id": "ec436f79",
   "metadata": {},
   "outputs": [],
   "source": [
    "\n",
    "def scrape_profile(driver, url):\n",
    "    \"\"\"Scrape profile information from a given URL.\"\"\"\n",
    "    driver.get(url)\n",
    "    try:\n",
    "        WebDriverWait(driver, 5).until(\n",
    "            EC.presence_of_element_located((By.XPATH, './/div[@data-testid=\"UserName\"]'))\n",
    "        )\n",
    "    except TimeoutException:\n",
    "        print(f\"Skipping {url}: Account not found.\")\n",
    "        return None\n",
    "    \n",
    "    driver.execute_script(\"window.stop();\")\n",
    "    \n",
    "    data = {}\n",
    "    \n",
    "    try:\n",
    "        data[\"Bio\"] = driver.find_element(By.XPATH, './/div[@data-testid=\"UserDescription\"]/span').text\n",
    "    except NoSuchElementException:\n",
    "        data[\"Bio\"] = \"\"\n",
    "    \n",
    "    try:\n",
    "        data[\"Following count\"] = driver.find_element(By.XPATH, './/div[@class=\"css-175oi2r r-13awgt0 r-18u37iz r-1w6e6rj\"]/div[1]/a/span[1]/span').text\n",
    "        data[\"Follower count\"] = driver.find_element(By.XPATH, './/div[@class=\"css-175oi2r r-13awgt0 r-18u37iz r-1w6e6rj\"]/div[2]/a/span[1]/span').text\n",
    "    except NoSuchElementException:\n",
    "        data[\"Following count\"] = data[\"Follower count\"] = \"\"\n",
    "    \n",
    "    try:\n",
    "        data[\"Location\"] = driver.find_element(By.XPATH, './/span[@data-testid=\"UserLocation\"]/span/span').text\n",
    "    except NoSuchElementException:\n",
    "        data[\"Location\"] = \"\"\n",
    "    \n",
    "    try:\n",
    "        data[\"Website\"] = driver.find_element(By.XPATH, './/a[@data-testid=\"UserUrl\"]').get_attribute('href')\n",
    "    except NoSuchElementException:\n",
    "        data[\"Website\"] = \"\"\n",
    "    \n",
    "    return data"
   ]
  },
  {
   "cell_type": "code",
   "execution_count": 5,
   "id": "3b09e466",
   "metadata": {},
   "outputs": [
    {
     "name": "stdout",
     "output_type": "stream",
     "text": [
      "Skipping http://www.twitter.com: Account not found.\n",
      "Skipping http://www.twitter.com/: Account not found.\n",
      "Scraping completed. Data saved to Scraped_Twitter_Data.csv\n"
     ]
    }
   ],
   "source": [
    "def main():\n",
    "    \"\"\"Main function to orchestrate scraping.\"\"\"\n",
    "    link_list = load_links(\"twitter_links.csv\")\n",
    "    driver = setup_driver()\n",
    "    \n",
    "    user_data = {\"Bio\": [], \"Follower count\": [], \"Following count\": [], \"Location\": [], \"Website\": []}\n",
    "    \n",
    "    for url in link_list:\n",
    "        profile_data = scrape_profile(driver, url)\n",
    "        if profile_data:\n",
    "            for key in user_data:\n",
    "                user_data[key].append(profile_data[key])\n",
    "        time.sleep(5)\n",
    "    \n",
    "    driver.quit()\n",
    "    \n",
    "    df = pd.DataFrame(user_data)\n",
    "    df.to_csv(\"Scraped_Twitter_Data.csv\", index=False)\n",
    "    print(\"Scraping completed. Data saved to Scraped_Twitter_Data.csv\")\n",
    "\n",
    "if __name__ == \"__main__\":\n",
    "    main()"
   ]
  }
 ],
 "metadata": {
  "kernelspec": {
   "display_name": "Python 3 (ipykernel)",
   "language": "python",
   "name": "python3"
  },
  "language_info": {
   "codemirror_mode": {
    "name": "ipython",
    "version": 3
   },
   "file_extension": ".py",
   "mimetype": "text/x-python",
   "name": "python",
   "nbconvert_exporter": "python",
   "pygments_lexer": "ipython3",
   "version": "3.11.7"
  }
 },
 "nbformat": 4,
 "nbformat_minor": 5
}
